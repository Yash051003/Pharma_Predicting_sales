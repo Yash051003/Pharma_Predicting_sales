{
 "cells": [
  {
   "cell_type": "code",
   "execution_count": null,
   "metadata": {
    "vscode": {
     "languageId": "plaintext"
    }
   },
   "outputs": [],
   "source": [
    "from prophet import Prophet\n",
    "import pandas as pd\n",
    "import joblib  # to save/load models\n",
    "\n",
    "# Load fake sales data\n",
    "df = pd.read_csv('/data/fake_sales_data.csv')\n",
    "\n",
    "product = \"Paracetamol\"\n",
    "df_product = df[df['Product'] == product].copy()\n",
    "\n",
    "# Prophet needs columns as: ds (date), y (value)\n",
    "df_product.rename(columns={\"Date\": \"ds\", \"Quantity\": \"y\"}, inplace=True)\n",
    "df_product['ds'] = pd.to_datetime(df_product['ds'])\n",
    "\n",
    "df_product.head()\n",
    "\n",
    "# Train Prophet\n",
    "model = Prophet()\n",
    "model.fit(df_product)\n",
    "\n",
    "# Save model\n",
    "joblib.dump(model, '/models/prophet_paracetamol.pkl')\n"
   ]
  }
 ],
 "metadata": {
  "language_info": {
   "name": "python"
  }
 },
 "nbformat": 4,
 "nbformat_minor": 2
}
